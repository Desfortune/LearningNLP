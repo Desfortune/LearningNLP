{
  "nbformat": 4,
  "nbformat_minor": 0,
  "metadata": {
    "colab": {
      "name": "LearningNLP_Tutorial1.1.ipynb",
      "provenance": [],
      "collapsed_sections": [
        "Nb5jDscafLIy"
      ],
      "toc_visible": true
    },
    "kernelspec": {
      "name": "python3",
      "display_name": "Python 3"
    },
    "language_info": {
      "name": "python"
    }
  },
  "cells": [
    {
      "cell_type": "markdown",
      "metadata": {
        "id": "hISWdom_eFdQ"
      },
      "source": [
        "# Learning NLP Tutorial Series \n",
        "## Tutorial 1 : More Sentiment Analysis \n",
        "\n",
        "Topics include: \n",
        "* Exploring a dataset ([Kaggle's ArXiv](https://www.kaggle.com/Cornell-University/arxiv)) \n",
        "* Explainability methods : SHAP, LIME \n",
        "* Binary classification generalization to N classes \n",
        "\n",
        "(Authors: Luca Bottero, Simone Azeglio, Alessio Borriero)\n",
        "\n",
        "---\n",
        "---\n",
        "\n",
        "## **Overview**\n",
        "\n",
        "* [Preprocessing](#section1)\n",
        "    * [Feature Engineering: feature extraction with count vectorizer and term frequency-inverse document frequency (tf-idf)](#section1.1)\n",
        "\n",
        "* [Classification](#section2)\n",
        "    * [Train a classifier](#section2.1)  \n",
        "    * [Prediction over test set](#section2.2)  \n",
        "    * [Evaluation](#section2.1)  \n",
        "\n",
        "* [Explainability Methods](#section2)\n",
        "    * [SHAP](#section2.1)\n",
        "    * [LIME](#section2.2)\n",
        "\n",
        "* [References & Additional Material](#section4)\n",
        "\n",
        "---\n",
        "---"
      ]
    },
    {
      "cell_type": "markdown",
      "metadata": {
        "id": "S-MMBJOR6ePE"
      },
      "source": [
        "<a id=\"section1\"></a>\n",
        "# **Preprocessing**"
      ]
    },
    {
      "cell_type": "markdown",
      "metadata": {
        "id": "VI1WYvwEVqwm"
      },
      "source": [
        "In order to download from kaggle the dataset we've chosen for this tutorial, you have to execute the following instruction. You can find the complete description for this procedure [here](https://www.kaggle.com/general/74235).\n",
        "\n",
        "Before to execute the first cell, you have to go to your Kaggle account page, scroll to API section and click on \"Create New API Token\". This command will download kaggle.json file on your machine."
      ]
    },
    {
      "cell_type": "code",
      "metadata": {
        "id": "5N9-6--mOHAv"
      },
      "source": [
        "! pip install -q kaggle #"
      ],
      "execution_count": null,
      "outputs": []
    },
    {
      "cell_type": "code",
      "metadata": {
        "id": "TejKX-QuOHG0"
      },
      "source": [
        " from google.colab import files"
      ],
      "execution_count": null,
      "outputs": []
    },
    {
      "cell_type": "code",
      "metadata": {
        "colab": {
          "resources": {
            "http://localhost:8080/nbextensions/google.colab/files.js": {
              "data": "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",
              "ok": true,
              "headers": [
                [
                  "content-type",
                  "application/javascript"
                ]
              ],
              "status": 200,
              "status_text": ""
            }
          },
          "base_uri": "https://localhost:8080/",
          "height": 90
        },
        "id": "dxf63q3LOHUP",
        "outputId": "e76256df-cd36-4041-e850-b32c27115024"
      },
      "source": [
        "files.upload()"
      ],
      "execution_count": null,
      "outputs": [
        {
          "output_type": "display_data",
          "data": {
            "text/html": [
              "\n",
              "     <input type=\"file\" id=\"files-a119f440-9ee6-4fb5-b7e0-9a1995da06d9\" name=\"files[]\" multiple disabled\n",
              "        style=\"border:none\" />\n",
              "     <output id=\"result-a119f440-9ee6-4fb5-b7e0-9a1995da06d9\">\n",
              "      Upload widget is only available when the cell has been executed in the\n",
              "      current browser session. Please rerun this cell to enable.\n",
              "      </output>\n",
              "      <script src=\"/nbextensions/google.colab/files.js\"></script> "
            ],
            "text/plain": [
              "<IPython.core.display.HTML object>"
            ]
          },
          "metadata": {
            "tags": []
          }
        },
        {
          "output_type": "stream",
          "text": [
            "Saving kaggle.json to kaggle (1).json\n"
          ],
          "name": "stdout"
        },
        {
          "output_type": "execute_result",
          "data": {
            "text/plain": [
              "{'kaggle.json': b'{\"username\":\"alessioborriero\",\"key\":\"7f0768dad21428b753204801a07b4c1c\"}'}"
            ]
          },
          "metadata": {
            "tags": []
          },
          "execution_count": 4
        }
      ]
    },
    {
      "cell_type": "code",
      "metadata": {
        "id": "lwRVsjfgOlx6"
      },
      "source": [
        "! mkdir ~/.kaggle"
      ],
      "execution_count": null,
      "outputs": []
    },
    {
      "cell_type": "code",
      "metadata": {
        "id": "PeQ1yeVGOlzW"
      },
      "source": [
        "! cp kaggle.json ~/.kaggle/"
      ],
      "execution_count": null,
      "outputs": []
    },
    {
      "cell_type": "code",
      "metadata": {
        "id": "GWpLhBvcOl4t"
      },
      "source": [
        "! chmod 600 ~/.kaggle/kaggle.json"
      ],
      "execution_count": null,
      "outputs": []
    },
    {
      "cell_type": "code",
      "metadata": {
        "colab": {
          "base_uri": "https://localhost:8080/"
        },
        "id": "WYykpRGeO1gd",
        "outputId": "0164c1a1-22b4-4b1f-d677-37e2ccbc2379"
      },
      "source": [
        "! kaggle datasets list"
      ],
      "execution_count": null,
      "outputs": [
        {
          "output_type": "stream",
          "text": [
            "Warning: Looks like you're using an outdated API Version, please consider updating (server 1.5.12 / client 1.5.4)\n",
            "ref                                                         title                                              size  lastUpdated          downloadCount  \n",
            "----------------------------------------------------------  ------------------------------------------------  -----  -------------------  -------------  \n",
            "gpreda/reddit-vaccine-myths                                 Reddit Vaccine Myths                              221KB  2021-03-26 07:27:32           1058  \n",
            "crowww/a-large-scale-fish-dataset                           A Large Scale Fish Dataset                          3GB  2021-02-17 16:10:44            813  \n",
            "dhruvildave/wikibooks-dataset                               Wikibooks Dataset                                   1GB  2021-02-18 10:08:27            722  \n",
            "imsparsh/musicnet-dataset                                   MusicNet Dataset                                   22GB  2021-02-18 14:12:19            315  \n",
            "alsgroup/end-als                                            End ALS Kaggle Challenge                           12GB  2021-03-16 22:31:35             84  \n",
            "simiotic/github-code-snippets                               GitHub Code Snippets                                7GB  2021-03-03 11:34:39             31  \n",
            "fatiimaezzahra/famous-iconic-women                          Famous Iconic Women                               838MB  2021-02-28 14:56:00            243  \n",
            "promptcloud/careerbuilder-job-listing-2020                  Careerbuilder Job Listing 2020                     42MB  2021-03-05 06:59:52             74  \n",
            "mathurinache/twitter-edge-nodes                             Twitter Edge Nodes                                342MB  2021-03-08 06:43:04             49  \n",
            "nickuzmenkov/nih-chest-xrays-tfrecords                      NIH Chest X-rays TFRecords                         11GB  2021-03-09 04:49:23            152  \n",
            "mathurinache/the-lj-speech-dataset                          The LJ Speech Dataset                               3GB  2021-02-15 09:19:54             61  \n",
            "nickuzmenkov/ranzcr-clip-kfold-tfrecords                    RANZCR CLiP KFold TFRecords                         2GB  2021-02-21 13:29:51             41  \n",
            "coloradokb/dandelionimages                                  DandelionImages                                     4GB  2021-02-19 20:03:47            106  \n",
            "imsparsh/accentdb-core-extended                             AccentDB - Core & Extended                          6GB  2021-02-17 14:22:54             25  \n",
            "landrykezebou/lvzhdr-tone-mapping-benchmark-dataset-tmonet  LVZ-HDR Tone Mapping Benchmark Dataset (TMO-Net)   24GB  2021-03-01 05:03:40             24  \n",
            "stuartjames/lights                                          LightS: Light Specularity Dataset                  18GB  2021-02-18 14:32:26             23  \n",
            "shivamb/netflix-shows                                       Netflix Movies and TV Shows                         1MB  2021-01-18 16:20:26         121391  \n",
            "jsphyg/weather-dataset-rattle-package                       Rain in Australia                                   4MB  2020-12-11 10:26:12          41265  \n",
            "arashnic/hr-analytics-job-change-of-data-scientists         HR Analytics: Job Change of Data Scientists       295KB  2020-12-07 00:25:10          16930  \n",
            "michau96/restaurant-business-rankings-2020                  Restaurant Business Rankings 2020                  16KB  2021-01-30 14:20:45          10490  \n"
          ],
          "name": "stdout"
        }
      ]
    },
    {
      "cell_type": "code",
      "metadata": {
        "colab": {
          "base_uri": "https://localhost:8080/"
        },
        "id": "ecLT-KWKO1h8",
        "outputId": "e6061f6c-05cc-4cce-caf9-4bb7f443d1c4"
      },
      "source": [
        "! kaggle datasets download -d Cornell-University/arxiv"
      ],
      "execution_count": null,
      "outputs": [
        {
          "output_type": "stream",
          "text": [
            "Downloading arxiv.zip to /content\n",
            " 99% 897M/906M [00:13<00:00, 68.2MB/s]\n",
            "100% 906M/906M [00:13<00:00, 70.1MB/s]\n"
          ],
          "name": "stdout"
        }
      ]
    },
    {
      "cell_type": "code",
      "metadata": {
        "id": "-pqRBOXnPU8o"
      },
      "source": [
        "! mkdir train"
      ],
      "execution_count": null,
      "outputs": []
    },
    {
      "cell_type": "code",
      "metadata": {
        "colab": {
          "base_uri": "https://localhost:8080/"
        },
        "id": "DC4gbe0UPU-H",
        "outputId": "28df3154-0b84-4211-8658-ddc0df996e30"
      },
      "source": [
        "! unzip arxiv.zip -d train"
      ],
      "execution_count": null,
      "outputs": [
        {
          "output_type": "stream",
          "text": [
            "Archive:  arxiv.zip\n",
            "  inflating: train/arxiv-metadata-oai-snapshot.json  \n"
          ],
          "name": "stdout"
        }
      ]
    },
    {
      "cell_type": "markdown",
      "metadata": {
        "id": "IFAh_4eRun7A"
      },
      "source": [
        "The Arxiv dataset we will use is written in JSON, a syntax for storing and exchanging data.\n",
        "JSON is text, written with JavaScript object notation."
      ]
    },
    {
      "cell_type": "code",
      "metadata": {
        "id": "Ce2vZGH9urYi",
        "colab": {
          "base_uri": "https://localhost:8080/"
        },
        "outputId": "5f97cbc5-7124-4451-ec13-8b0715816ea8"
      },
      "source": [
        "import pandas as pd\n",
        "import numpy as np\n",
        "import json   #importing this module we can work with JSON data\n",
        "import nltk   #NLP toolkit\n",
        "from nltk.corpus import stopwords\n",
        "nltk.download('stopwords')\n",
        "import re     # library for regular expression operations\n",
        "import string # for string operations\n",
        "import collections\n",
        "import gensim  \n",
        "from gensim import parsing        # Help in preprocessing the data, very efficiently\n"
      ],
      "execution_count": null,
      "outputs": [
        {
          "output_type": "stream",
          "text": [
            "[nltk_data] Downloading package stopwords to /root/nltk_data...\n",
            "[nltk_data]   Unzipping corpora/stopwords.zip.\n"
          ],
          "name": "stdout"
        }
      ]
    },
    {
      "cell_type": "markdown",
      "metadata": {
        "id": "zLT2lAXDxtH8"
      },
      "source": [
        "With the function in the next cell we build an object called generator, i.e. a kind of iterable you can only iterate over once.\n",
        "A generator don't store all the values in memory.\n",
        "So, with the function get_metadata() you can open the file in order to manage it paper by paper."
      ]
    },
    {
      "cell_type": "code",
      "metadata": {
        "id": "nbcK8UtsNzPf"
      },
      "source": [
        "path_to_data = 'train/arxiv-metadata-oai-snapshot.json'"
      ],
      "execution_count": null,
      "outputs": []
    },
    {
      "cell_type": "code",
      "metadata": {
        "id": "W4S3YATuuspm"
      },
      "source": [
        "def get_metadata():\n",
        "    with open(path_to_data) as f:\n",
        "        for line in f:\n",
        "            yield line #Yield is used like Return, except the function will return a generator"
      ],
      "execution_count": null,
      "outputs": []
    },
    {
      "cell_type": "code",
      "metadata": {
        "id": "bxEbL_rWuss2"
      },
      "source": [
        "metadata = get_metadata()\n",
        "\n",
        "for paper in metadata:\n",
        "    first_paper = json.loads(paper) #json.loads() return a dictionary\n",
        "    break"
      ],
      "execution_count": null,
      "outputs": []
    },
    {
      "cell_type": "code",
      "metadata": {
        "id": "DwL6aqgYuz4a",
        "colab": {
          "base_uri": "https://localhost:8080/"
        },
        "outputId": "5173cd57-77a4-472f-8030-722459619ef2"
      },
      "source": [
        "for key in first_paper:\n",
        "    print(key)"
      ],
      "execution_count": null,
      "outputs": [
        {
          "output_type": "stream",
          "text": [
            "id\n",
            "submitter\n",
            "authors\n",
            "title\n",
            "comments\n",
            "journal-ref\n",
            "doi\n",
            "report-no\n",
            "categories\n",
            "license\n",
            "abstract\n",
            "versions\n",
            "update_date\n",
            "authors_parsed\n"
          ],
          "name": "stdout"
        }
      ]
    },
    {
      "cell_type": "markdown",
      "metadata": {
        "id": "vHUd8_HMu3V5"
      },
      "source": [
        "We're interested only in the keys Categories, Authors, Title and Abstract of each paper, so let's save this information in a Dataframe:"
      ]
    },
    {
      "cell_type": "code",
      "metadata": {
        "id": "ykryHbj_u4yt"
      },
      "source": [
        "#set of empty list that will be filled with the information of each paper\n",
        "\n",
        "categories = []\n",
        "authors = []\n",
        "title = []\n",
        "abstract = []"
      ],
      "execution_count": null,
      "outputs": []
    },
    {
      "cell_type": "code",
      "metadata": {
        "id": "8RQSbi1ou56d"
      },
      "source": [
        "total_items = 0\n",
        "\n",
        "for papers in metadata:\n",
        "    paper = json.loads(papers)\n",
        "    \n",
        "    categories.append(paper['categories'])\n",
        "    authors.append(paper['authors'])\n",
        "    title.append(paper['title'])\n",
        "    abstract.append(paper['abstract'])\n",
        "    \n",
        "    total_items += 1"
      ],
      "execution_count": null,
      "outputs": []
    },
    {
      "cell_type": "code",
      "metadata": {
        "id": "CR58x4Z9u597",
        "colab": {
          "base_uri": "https://localhost:8080/"
        },
        "outputId": "181f0bfc-53f6-4403-caa9-c1e1948e1aad"
      },
      "source": [
        "print(total_items)"
      ],
      "execution_count": null,
      "outputs": [
        {
          "output_type": "stream",
          "text": [
            "1796910\n"
          ],
          "name": "stdout"
        }
      ]
    },
    {
      "cell_type": "code",
      "metadata": {
        "id": "x2mdHTIxvDOJ"
      },
      "source": [
        "#In this cell we create a dictionary with the information stored before\n",
        "d = {\n",
        "    'Categories': categories,\n",
        "    'Authors': authors,\n",
        "    'Title': title,\n",
        "    'Abstract': abstract,\n",
        "}"
      ],
      "execution_count": null,
      "outputs": []
    },
    {
      "cell_type": "code",
      "metadata": {
        "id": "w_Gq36AZvDRY"
      },
      "source": [
        "df = pd.DataFrame(d)"
      ],
      "execution_count": null,
      "outputs": []
    },
    {
      "cell_type": "code",
      "metadata": {
        "id": "NJCddMyPvFVJ",
        "colab": {
          "base_uri": "https://localhost:8080/",
          "height": 195
        },
        "outputId": "7c574adc-1e04-47c4-eb0b-d8577992ac12"
      },
      "source": [
        "df.head()"
      ],
      "execution_count": null,
      "outputs": [
        {
          "output_type": "execute_result",
          "data": {
            "text/html": [
              "<div>\n",
              "<style scoped>\n",
              "    .dataframe tbody tr th:only-of-type {\n",
              "        vertical-align: middle;\n",
              "    }\n",
              "\n",
              "    .dataframe tbody tr th {\n",
              "        vertical-align: top;\n",
              "    }\n",
              "\n",
              "    .dataframe thead th {\n",
              "        text-align: right;\n",
              "    }\n",
              "</style>\n",
              "<table border=\"1\" class=\"dataframe\">\n",
              "  <thead>\n",
              "    <tr style=\"text-align: right;\">\n",
              "      <th></th>\n",
              "      <th>Categories</th>\n",
              "      <th>Authors</th>\n",
              "      <th>Title</th>\n",
              "      <th>Abstract</th>\n",
              "    </tr>\n",
              "  </thead>\n",
              "  <tbody>\n",
              "    <tr>\n",
              "      <th>0</th>\n",
              "      <td>math.CO cs.CG</td>\n",
              "      <td>Ileana Streinu and Louis Theran</td>\n",
              "      <td>Sparsity-certifying Graph Decompositions</td>\n",
              "      <td>We describe a new algorithm, the $(k,\\ell)$-...</td>\n",
              "    </tr>\n",
              "    <tr>\n",
              "      <th>1</th>\n",
              "      <td>physics.gen-ph</td>\n",
              "      <td>Hongjun Pan</td>\n",
              "      <td>The evolution of the Earth-Moon system based o...</td>\n",
              "      <td>The evolution of Earth-Moon system is descri...</td>\n",
              "    </tr>\n",
              "    <tr>\n",
              "      <th>2</th>\n",
              "      <td>math.CO</td>\n",
              "      <td>David Callan</td>\n",
              "      <td>A determinant of Stirling cycle numbers counts...</td>\n",
              "      <td>We show that a determinant of Stirling cycle...</td>\n",
              "    </tr>\n",
              "    <tr>\n",
              "      <th>3</th>\n",
              "      <td>math.CA math.FA</td>\n",
              "      <td>Wael Abu-Shammala and Alberto Torchinsky</td>\n",
              "      <td>From dyadic $\\Lambda_{\\alpha}$ to $\\Lambda_{\\a...</td>\n",
              "      <td>In this paper we show how to compute the $\\L...</td>\n",
              "    </tr>\n",
              "    <tr>\n",
              "      <th>4</th>\n",
              "      <td>cond-mat.mes-hall</td>\n",
              "      <td>Y. H. Pong and C. K. Law</td>\n",
              "      <td>Bosonic characters of atomic Cooper pairs acro...</td>\n",
              "      <td>We study the two-particle wave function of p...</td>\n",
              "    </tr>\n",
              "  </tbody>\n",
              "</table>\n",
              "</div>"
            ],
            "text/plain": [
              "          Categories  ...                                           Abstract\n",
              "0      math.CO cs.CG  ...    We describe a new algorithm, the $(k,\\ell)$-...\n",
              "1     physics.gen-ph  ...    The evolution of Earth-Moon system is descri...\n",
              "2            math.CO  ...    We show that a determinant of Stirling cycle...\n",
              "3    math.CA math.FA  ...    In this paper we show how to compute the $\\L...\n",
              "4  cond-mat.mes-hall  ...    We study the two-particle wave function of p...\n",
              "\n",
              "[5 rows x 4 columns]"
            ]
          },
          "metadata": {
            "tags": []
          },
          "execution_count": 38
        }
      ]
    },
    {
      "cell_type": "markdown",
      "metadata": {
        "id": "-grrP_XcvJEV"
      },
      "source": [
        "In order to use this data for classification we have to prepocessing them, so we exploit [Gensim library](https://radimrehurek.com/gensim/corpora/textcorpus.html) .\n",
        "The following code has been ispired from the following notebook found on [Kaggle](https://www.kaggle.com/anurag3753/prediction-naive-bayes-preprocessing-with-gensim): "
      ]
    },
    {
      "cell_type": "code",
      "metadata": {
        "id": "D8azoNkJvJKG"
      },
      "source": [
        "def transformText(text):\n",
        "    \n",
        "    stops = set(stopwords.words(\"english\"))\n",
        "    \n",
        "    # Convert text to lower\n",
        "    text = text.lower()\n",
        "    # Removing non ASCII chars    \n",
        "    text = re.sub(r'[^\\x00-\\x7f]',r' ',text)\n",
        "    \n",
        "    # Strip multiple whitespaces\n",
        "    text = gensim.corpora.textcorpus.strip_multiple_whitespaces(text)\n",
        "    \n",
        "    # Removing all the stopwords\n",
        "    filtered_words = [word for word in text.split() if word not in stops]\n",
        "    \n",
        "    # Removing all the tokens with lesser than 3 characters\n",
        "    filtered_words = gensim.corpora.textcorpus.remove_short(filtered_words, minsize=3)\n",
        "    \n",
        "    # Preprocessed text after stop words removal\n",
        "    text = \" \".join(filtered_words)\n",
        "    \n",
        "    # Remove the punctuation\n",
        "    text = gensim.parsing.preprocessing.strip_punctuation2(text)\n",
        "    \n",
        "    # Strip all the numerics\n",
        "    text = gensim.parsing.preprocessing.strip_numeric(text)\n",
        "    \n",
        "    # Strip multiple whitespaces\n",
        "    text = gensim.corpora.textcorpus.strip_multiple_whitespaces(text)\n",
        "    \n",
        "    # Stemming\n",
        "    return gensim.parsing.preprocessing.stem_text(text)"
      ],
      "execution_count": null,
      "outputs": []
    },
    {
      "cell_type": "code",
      "metadata": {
        "id": "97xaIwryvMs7"
      },
      "source": [
        "df['Title'] = df['Title'].map(transformText) #this line will take a quite amount of time to be executed "
      ],
      "execution_count": null,
      "outputs": []
    },
    {
      "cell_type": "code",
      "metadata": {
        "id": "XyQjjybpvM7Z",
        "colab": {
          "base_uri": "https://localhost:8080/",
          "height": 195
        },
        "outputId": "8e9bd8cc-9844-4d62-f5e5-a2bdb07fef83"
      },
      "source": [
        "df.head()"
      ],
      "execution_count": null,
      "outputs": [
        {
          "output_type": "execute_result",
          "data": {
            "text/html": [
              "<div>\n",
              "<style scoped>\n",
              "    .dataframe tbody tr th:only-of-type {\n",
              "        vertical-align: middle;\n",
              "    }\n",
              "\n",
              "    .dataframe tbody tr th {\n",
              "        vertical-align: top;\n",
              "    }\n",
              "\n",
              "    .dataframe thead th {\n",
              "        text-align: right;\n",
              "    }\n",
              "</style>\n",
              "<table border=\"1\" class=\"dataframe\">\n",
              "  <thead>\n",
              "    <tr style=\"text-align: right;\">\n",
              "      <th></th>\n",
              "      <th>Categories</th>\n",
              "      <th>Authors</th>\n",
              "      <th>Title</th>\n",
              "      <th>Abstract</th>\n",
              "    </tr>\n",
              "  </thead>\n",
              "  <tbody>\n",
              "    <tr>\n",
              "      <th>0</th>\n",
              "      <td>math.CO cs.CG</td>\n",
              "      <td>Ileana Streinu and Louis Theran</td>\n",
              "      <td>sparsiti certifi graph decomposit</td>\n",
              "      <td>We describe a new algorithm, the $(k,\\ell)$-...</td>\n",
              "    </tr>\n",
              "    <tr>\n",
              "      <th>1</th>\n",
              "      <td>physics.gen-ph</td>\n",
              "      <td>Hongjun Pan</td>\n",
              "      <td>evolut earth moon system base dark matter fiel...</td>\n",
              "      <td>The evolution of Earth-Moon system is descri...</td>\n",
              "    </tr>\n",
              "    <tr>\n",
              "      <th>2</th>\n",
              "      <td>math.CO</td>\n",
              "      <td>David Callan</td>\n",
              "      <td>determin stirl cycl number count unlabel acycl...</td>\n",
              "      <td>We show that a determinant of Stirling cycle...</td>\n",
              "    </tr>\n",
              "    <tr>\n",
              "      <th>3</th>\n",
              "      <td>math.CA math.FA</td>\n",
              "      <td>Wael Abu-Shammala and Alberto Torchinsky</td>\n",
              "      <td>dyadic lambda alpha lambda alpha</td>\n",
              "      <td>In this paper we show how to compute the $\\L...</td>\n",
              "    </tr>\n",
              "    <tr>\n",
              "      <th>4</th>\n",
              "      <td>cond-mat.mes-hall</td>\n",
              "      <td>Y. H. Pong and C. K. Law</td>\n",
              "      <td>boson charact atom cooper pair across reson</td>\n",
              "      <td>We study the two-particle wave function of p...</td>\n",
              "    </tr>\n",
              "  </tbody>\n",
              "</table>\n",
              "</div>"
            ],
            "text/plain": [
              "          Categories  ...                                           Abstract\n",
              "0      math.CO cs.CG  ...    We describe a new algorithm, the $(k,\\ell)$-...\n",
              "1     physics.gen-ph  ...    The evolution of Earth-Moon system is descri...\n",
              "2            math.CO  ...    We show that a determinant of Stirling cycle...\n",
              "3    math.CA math.FA  ...    In this paper we show how to compute the $\\L...\n",
              "4  cond-mat.mes-hall  ...    We study the two-particle wave function of p...\n",
              "\n",
              "[5 rows x 4 columns]"
            ]
          },
          "metadata": {
            "tags": []
          },
          "execution_count": 41
        }
      ]
    },
    {
      "cell_type": "markdown",
      "metadata": {
        "id": "cB_lxf8ZvTg7"
      },
      "source": [
        "First we have to chose only two Categories in order to perform our binary classification. At the page https://arxiv.org/category_taxonomy you can find the complete ArXiv categories taxonomy. So, for our purpose we chose the two more frequent categories. Let's find them."
      ]
    },
    {
      "cell_type": "code",
      "metadata": {
        "id": "x4RjZTpmvT2u"
      },
      "source": [
        "categories = df.Categories"
      ],
      "execution_count": null,
      "outputs": []
    },
    {
      "cell_type": "code",
      "metadata": {
        "id": "7w0BuxTevYpB"
      },
      "source": [
        "cat_freq_dic = collections.Counter(categories) #collections.Counter gives us a dictionary with a count of how many \n",
        "                                               #times a category appears in the dataset"
      ],
      "execution_count": null,
      "outputs": []
    },
    {
      "cell_type": "code",
      "metadata": {
        "id": "4kQwmpm1vYxc",
        "colab": {
          "base_uri": "https://localhost:8080/"
        },
        "outputId": "28918237-5caa-4d52-c3ac-4be0b0e61b36"
      },
      "source": [
        "max1 = 0\n",
        "max2 = 0\n",
        "for key in cat_freq_dic:\n",
        "    if  cat_freq_dic[key]>max1:\n",
        "        max1=cat_freq_dic[key]\n",
        "        max1key=key\n",
        "    elif cat_freq_dic[key]>max2:\n",
        "        max2=cat_freq_dic[key]\n",
        "        max2key=key        \n",
        "            \n",
        "print(max1key, max1)\n",
        "print(max2key, max2)"
      ],
      "execution_count": null,
      "outputs": [
        {
          "output_type": "stream",
          "text": [
            "astro-ph 86914\n",
            "hep-ph 73549\n"
          ],
          "name": "stdout"
        }
      ]
    },
    {
      "cell_type": "code",
      "metadata": {
        "id": "C_Rx7wBXvclf",
        "colab": {
          "base_uri": "https://localhost:8080/",
          "height": 195
        },
        "outputId": "372a387f-aa00-4e9c-8d23-ace72cdbd269"
      },
      "source": [
        "traindf = df[(df['Categories']==max2key) | (df['Categories']==max1key)]\n",
        "traindf.head()"
      ],
      "execution_count": null,
      "outputs": [
        {
          "output_type": "execute_result",
          "data": {
            "text/html": [
              "<div>\n",
              "<style scoped>\n",
              "    .dataframe tbody tr th:only-of-type {\n",
              "        vertical-align: middle;\n",
              "    }\n",
              "\n",
              "    .dataframe tbody tr th {\n",
              "        vertical-align: top;\n",
              "    }\n",
              "\n",
              "    .dataframe thead th {\n",
              "        text-align: right;\n",
              "    }\n",
              "</style>\n",
              "<table border=\"1\" class=\"dataframe\">\n",
              "  <thead>\n",
              "    <tr style=\"text-align: right;\">\n",
              "      <th></th>\n",
              "      <th>Categories</th>\n",
              "      <th>Authors</th>\n",
              "      <th>Title</th>\n",
              "      <th>Abstract</th>\n",
              "    </tr>\n",
              "  </thead>\n",
              "  <tbody>\n",
              "    <tr>\n",
              "      <th>7</th>\n",
              "      <td>astro-ph</td>\n",
              "      <td>Paul Harvey, Bruno Merin, Tracy L. Huard, Luis...</td>\n",
              "      <td>spitzer cd survei larg nearbi insterstellar cl...</td>\n",
              "      <td>We discuss the results from the combined IRA...</td>\n",
              "    </tr>\n",
              "    <tr>\n",
              "      <th>14</th>\n",
              "      <td>hep-ph</td>\n",
              "      <td>Chao-Hsi Chang, Tong Li, Xue-Qian Li and Yu-Mi...</td>\n",
              "      <td>lifetim doubli charm baryon</td>\n",
              "      <td>In this work, we evaluate the lifetimes of t...</td>\n",
              "    </tr>\n",
              "    <tr>\n",
              "      <th>15</th>\n",
              "      <td>astro-ph</td>\n",
              "      <td>Nceba Mhlahlo, David H. Buckley, Vikram S. Dhi...</td>\n",
              "      <td>spectroscop observ intermedi polar hydra quies...</td>\n",
              "      <td>Results from spectroscopic observations of t...</td>\n",
              "    </tr>\n",
              "    <tr>\n",
              "      <th>21</th>\n",
              "      <td>astro-ph</td>\n",
              "      <td>M. A. Loukitcheva, S. K. Solanki and S. White</td>\n",
              "      <td>alma ideal probe solar chromospher</td>\n",
              "      <td>The very nature of the solar chromosphere, i...</td>\n",
              "    </tr>\n",
              "    <tr>\n",
              "      <th>27</th>\n",
              "      <td>hep-ph</td>\n",
              "      <td>Zhan Shu, Xiao-Lin Chen and Wei-Zhen Deng</td>\n",
              "      <td>understand flavor symmetri break nucleon flavo...</td>\n",
              "      <td>In $\\XQM$, a quark can emit Goldstone bosons...</td>\n",
              "    </tr>\n",
              "  </tbody>\n",
              "</table>\n",
              "</div>"
            ],
            "text/plain": [
              "   Categories  ...                                           Abstract\n",
              "7    astro-ph  ...    We discuss the results from the combined IRA...\n",
              "14     hep-ph  ...    In this work, we evaluate the lifetimes of t...\n",
              "15   astro-ph  ...    Results from spectroscopic observations of t...\n",
              "21   astro-ph  ...    The very nature of the solar chromosphere, i...\n",
              "27     hep-ph  ...    In $\\XQM$, a quark can emit Goldstone bosons...\n",
              "\n",
              "[5 rows x 4 columns]"
            ]
          },
          "metadata": {
            "tags": []
          },
          "execution_count": 45
        }
      ]
    },
    {
      "cell_type": "markdown",
      "metadata": {
        "id": "cMy7tKYMvi1L"
      },
      "source": [
        "Now that only two categories has been selected, we have to convert categories names in a digits in order to be processed by a classification algorithm."
      ]
    },
    {
      "cell_type": "code",
      "metadata": {
        "id": "kYgbJMNSvcrW",
        "colab": {
          "base_uri": "https://localhost:8080/"
        },
        "outputId": "eb37eae5-b44c-4e70-858c-e11aac341583"
      },
      "source": [
        "category_to_id = {    #create a simple dictionary which map the category in a digit\n",
        "    max1key: 0,\n",
        "    max2key: 1\n",
        "}\n",
        "\n",
        "def get_category_id(category):\n",
        "    return category_to_id[category]\n",
        "\n",
        "traindf['Categories'] = traindf['Categories'].map(get_category_id)"
      ],
      "execution_count": null,
      "outputs": [
        {
          "output_type": "stream",
          "text": [
            "/usr/local/lib/python3.7/dist-packages/ipykernel_launcher.py:9: SettingWithCopyWarning: \n",
            "A value is trying to be set on a copy of a slice from a DataFrame.\n",
            "Try using .loc[row_indexer,col_indexer] = value instead\n",
            "\n",
            "See the caveats in the documentation: https://pandas.pydata.org/pandas-docs/stable/user_guide/indexing.html#returning-a-view-versus-a-copy\n",
            "  if __name__ == '__main__':\n"
          ],
          "name": "stderr"
        }
      ]
    },
    {
      "cell_type": "code",
      "metadata": {
        "id": "-O1nre0rvlny",
        "colab": {
          "base_uri": "https://localhost:8080/",
          "height": 195
        },
        "outputId": "7c541395-c886-4f71-966b-23db2a76a9fa"
      },
      "source": [
        "traindf.head()"
      ],
      "execution_count": null,
      "outputs": [
        {
          "output_type": "execute_result",
          "data": {
            "text/html": [
              "<div>\n",
              "<style scoped>\n",
              "    .dataframe tbody tr th:only-of-type {\n",
              "        vertical-align: middle;\n",
              "    }\n",
              "\n",
              "    .dataframe tbody tr th {\n",
              "        vertical-align: top;\n",
              "    }\n",
              "\n",
              "    .dataframe thead th {\n",
              "        text-align: right;\n",
              "    }\n",
              "</style>\n",
              "<table border=\"1\" class=\"dataframe\">\n",
              "  <thead>\n",
              "    <tr style=\"text-align: right;\">\n",
              "      <th></th>\n",
              "      <th>Categories</th>\n",
              "      <th>Authors</th>\n",
              "      <th>Title</th>\n",
              "      <th>Abstract</th>\n",
              "    </tr>\n",
              "  </thead>\n",
              "  <tbody>\n",
              "    <tr>\n",
              "      <th>7</th>\n",
              "      <td>0</td>\n",
              "      <td>Paul Harvey, Bruno Merin, Tracy L. Huard, Luis...</td>\n",
              "      <td>spitzer cd survei larg nearbi insterstellar cl...</td>\n",
              "      <td>We discuss the results from the combined IRA...</td>\n",
              "    </tr>\n",
              "    <tr>\n",
              "      <th>14</th>\n",
              "      <td>1</td>\n",
              "      <td>Chao-Hsi Chang, Tong Li, Xue-Qian Li and Yu-Mi...</td>\n",
              "      <td>lifetim doubli charm baryon</td>\n",
              "      <td>In this work, we evaluate the lifetimes of t...</td>\n",
              "    </tr>\n",
              "    <tr>\n",
              "      <th>15</th>\n",
              "      <td>0</td>\n",
              "      <td>Nceba Mhlahlo, David H. Buckley, Vikram S. Dhi...</td>\n",
              "      <td>spectroscop observ intermedi polar hydra quies...</td>\n",
              "      <td>Results from spectroscopic observations of t...</td>\n",
              "    </tr>\n",
              "    <tr>\n",
              "      <th>21</th>\n",
              "      <td>0</td>\n",
              "      <td>M. A. Loukitcheva, S. K. Solanki and S. White</td>\n",
              "      <td>alma ideal probe solar chromospher</td>\n",
              "      <td>The very nature of the solar chromosphere, i...</td>\n",
              "    </tr>\n",
              "    <tr>\n",
              "      <th>27</th>\n",
              "      <td>1</td>\n",
              "      <td>Zhan Shu, Xiao-Lin Chen and Wei-Zhen Deng</td>\n",
              "      <td>understand flavor symmetri break nucleon flavo...</td>\n",
              "      <td>In $\\XQM$, a quark can emit Goldstone bosons...</td>\n",
              "    </tr>\n",
              "  </tbody>\n",
              "</table>\n",
              "</div>"
            ],
            "text/plain": [
              "    Categories  ...                                           Abstract\n",
              "7            0  ...    We discuss the results from the combined IRA...\n",
              "14           1  ...    In this work, we evaluate the lifetimes of t...\n",
              "15           0  ...    Results from spectroscopic observations of t...\n",
              "21           0  ...    The very nature of the solar chromosphere, i...\n",
              "27           1  ...    In $\\XQM$, a quark can emit Goldstone bosons...\n",
              "\n",
              "[5 rows x 4 columns]"
            ]
          },
          "metadata": {
            "tags": []
          },
          "execution_count": 47
        }
      ]
    },
    {
      "cell_type": "markdown",
      "metadata": {
        "id": "ihuK2Zu5vp9b"
      },
      "source": [
        "Once we have properly preprocess our data, we have to split the dataset in training and test set."
      ]
    },
    {
      "cell_type": "code",
      "metadata": {
        "id": "aafMIAzVvlqn"
      },
      "source": [
        "from sklearn.model_selection import train_test_split\n",
        "X_train, X_test, y_train, y_test = train_test_split(traindf['Title'], traindf['Categories'], \n",
        "                                                    test_size=0.33, random_state=42)"
      ],
      "execution_count": null,
      "outputs": []
    },
    {
      "cell_type": "code",
      "metadata": {
        "id": "CqEku8ZWvlu6",
        "colab": {
          "base_uri": "https://localhost:8080/"
        },
        "outputId": "bfae4e43-bd81-455f-9911-9005415fa966"
      },
      "source": [
        "X_train"
      ],
      "execution_count": null,
      "outputs": [
        {
          "output_type": "execute_result",
          "data": {
            "text/plain": [
              "338205                     save fourth gener higg radion mix\n",
              "1395428                                   infrar color dwarf\n",
              "1414457                            growth hii region reioniz\n",
              "1431266    spitzer space telescop extra galact first look...\n",
              "1427474    lyman alpha radiat collaps protogalaxi ii obse...\n",
              "                                 ...                        \n",
              "1460445                      flight determin plate scale eit\n",
              "1443002               orion ob associ ii orion eridanu bubbl\n",
              "1599370    numer evalu master integr loop gener massiv se...\n",
              "1618623          effect shadow doubl pomeron exchang process\n",
              "1585877                         issu flat direct baryogenesi\n",
              "Name: Title, Length: 107510, dtype: object"
            ]
          },
          "metadata": {
            "tags": []
          },
          "execution_count": 49
        }
      ]
    },
    {
      "cell_type": "markdown",
      "metadata": {
        "id": "TR9B3KzKv6e9"
      },
      "source": [
        "<a id='section1.1'></a>\n",
        "# Feature Engineering: feature extraction with count vectorizer and term frequency-inverse document frequency (tfidf)"
      ]
    },
    {
      "cell_type": "markdown",
      "metadata": {
        "id": "1xN5bKi-v6hd"
      },
      "source": [
        "Now we have to create the features will feed our classification model. In order to do that we exploit to methods: CountVectorizer and TfidfTransofer. \n",
        "\n",
        "[CountVectorizer](https://scikit-learn.org/stable/modules/generated/sklearn.feature_extraction.text.CountVectorizer.html) is able to create a dictionary of word inside all the documents we provide to it and than to represent each of this documents (the titles) in a matrix form. Every row will be a title and every column a word."
      ]
    },
    {
      "cell_type": "code",
      "metadata": {
        "id": "_4fKKCpMvlxt"
      },
      "source": [
        "from sklearn.feature_extraction.text import CountVectorizer, TfidfTransformer"
      ],
      "execution_count": null,
      "outputs": []
    },
    {
      "cell_type": "code",
      "metadata": {
        "id": "gMbCePakwCL6",
        "colab": {
          "base_uri": "https://localhost:8080/"
        },
        "outputId": "e0f079d8-d140-4a16-e102-8e023d181ed9"
      },
      "source": [
        "vectorizer = CountVectorizer()\n",
        "X_train_counts = vectorizer.fit_transform(X_train)\n",
        "features_name = vectorizer.get_feature_names()\n",
        "features_name[:10]"
      ],
      "execution_count": null,
      "outputs": [
        {
          "output_type": "execute_result",
          "data": {
            "text/plain": [
              "['aa', 'aaa', 'aal', 'aamq', 'aao', 'aaomega', 'aat', 'aavso', 'ab', 'aband']"
            ]
          },
          "metadata": {
            "tags": []
          },
          "execution_count": 51
        }
      ]
    },
    {
      "cell_type": "markdown",
      "metadata": {
        "id": "d1veHF3fwGhh"
      },
      "source": [
        "Because of the high number of word in the vocabulary, the resulting matrix after applying CountVectorizer to our data is a sparse matrix, with most of its values equal to zero. "
      ]
    },
    {
      "cell_type": "code",
      "metadata": {
        "id": "cRXEwqNuwCO7",
        "colab": {
          "base_uri": "https://localhost:8080/"
        },
        "outputId": "c587d3d9-2672-49c7-ecd1-4669149662d3"
      },
      "source": [
        "len(features_name)"
      ],
      "execution_count": null,
      "outputs": [
        {
          "output_type": "execute_result",
          "data": {
            "text/plain": [
              "13199"
            ]
          },
          "metadata": {
            "tags": []
          },
          "execution_count": 52
        }
      ]
    },
    {
      "cell_type": "markdown",
      "metadata": {
        "id": "di9mhLlwwMAD"
      },
      "source": [
        "After the data manipulation above, we have to use the [TfidfTransformer](https://scikit-learn.org/stable/modules/generated/sklearn.feature_extraction.text.TfidfTransformer.html#sklearn.feature_extraction.text.TfidfTransformer) in order to create a proper count of the frequency of each word inside our dataset. Tf-idf is the acronym for Term Frequncy-Inverse Document Frequency. With this approach mw evaluate the relative importance of particular word. Tf-idf is the product of two statistics, term frequency and inverse document frequency. Various ways for determining the exact values of both statistics exist. In the case of the Term Frequency is the \"raw frequency\" of a term in a document, i.e. the number of times a term occurs in document (a title). The \"inverse document frequency\" is a measure of whether the term is common or rare across all documents. It is obtained by dividing the total number of documents by the number of documents containing the term, and then taking the logarithm of that quotient. The Tf-idf is the product of this two quantity"
      ]
    },
    {
      "cell_type": "code",
      "metadata": {
        "id": "tlV7dLFVwMOX"
      },
      "source": [
        "tfidf_transformer = TfidfTransformer()\n",
        "X_train_tfidf = tfidf_transformer.fit_transform(X_train_counts)"
      ],
      "execution_count": null,
      "outputs": []
    },
    {
      "cell_type": "markdown",
      "metadata": {
        "id": "2Y4caJh0wR76"
      },
      "source": [
        "<a id='section2'></a>\n",
        "# **Classification**"
      ]
    },
    {
      "cell_type": "markdown",
      "metadata": {
        "id": "-hOy7uui72Ta"
      },
      "source": [
        "<a id='section2.1'></a>\n",
        "# Train a classifier"
      ]
    },
    {
      "cell_type": "markdown",
      "metadata": {
        "id": "5cHOcGOdwSvE"
      },
      "source": [
        "We choose Logistic Regression as classification model. Instead of making a manual implemetation of this model, we exploit the sklearn method for [Logistic Regression](https://scikit-learn.org/stable/modules/generated/sklearn.linear_model.LogisticRegression.html)"
      ]
    },
    {
      "cell_type": "code",
      "metadata": {
        "id": "CCG6dgL8wS2s",
        "colab": {
          "base_uri": "https://localhost:8080/"
        },
        "outputId": "a413bdba-1a90-407b-8bee-e838a62ecf18"
      },
      "source": [
        "from sklearn.linear_model import LogisticRegression\n",
        "regression = LogisticRegression()\n",
        "regression.fit(X_train_tfidf, y_train)"
      ],
      "execution_count": null,
      "outputs": [
        {
          "output_type": "execute_result",
          "data": {
            "text/plain": [
              "LogisticRegression(C=1.0, class_weight=None, dual=False, fit_intercept=True,\n",
              "                   intercept_scaling=1, l1_ratio=None, max_iter=100,\n",
              "                   multi_class='auto', n_jobs=None, penalty='l2',\n",
              "                   random_state=None, solver='lbfgs', tol=0.0001, verbose=0,\n",
              "                   warm_start=False)"
            ]
          },
          "metadata": {
            "tags": []
          },
          "execution_count": 54
        }
      ]
    },
    {
      "cell_type": "markdown",
      "metadata": {
        "id": "JApBnlNowgfh"
      },
      "source": [
        "<a id='section2.2'></a>\n",
        "# Prediction over test set"
      ]
    },
    {
      "cell_type": "markdown",
      "metadata": {
        "id": "QQw8O3afwgiG"
      },
      "source": [
        "Pay attention to the methods used to countvectorize the test set. In this case we use `CountVectorizer.transform()` instead of `CountVectorizer.fit_transform()` in order to mantain the vocabulary built before."
      ]
    },
    {
      "cell_type": "code",
      "metadata": {
        "id": "42TE6_IowS5_",
        "colab": {
          "base_uri": "https://localhost:8080/"
        },
        "outputId": "dd15c895-3317-4e86-e1ef-c17fb8788a42"
      },
      "source": [
        "X_test_counts = vectorizer.transform(X_test)\n",
        "features_name = vectorizer.get_feature_names()\n",
        "features_name[:10]"
      ],
      "execution_count": null,
      "outputs": [
        {
          "output_type": "execute_result",
          "data": {
            "text/plain": [
              "['aa', 'aaa', 'aal', 'aamq', 'aao', 'aaomega', 'aat', 'aavso', 'ab', 'aband']"
            ]
          },
          "metadata": {
            "tags": []
          },
          "execution_count": 55
        }
      ]
    },
    {
      "cell_type": "code",
      "metadata": {
        "id": "SmpTvKnHwpbs"
      },
      "source": [
        "X_test_tfidf = tfidf_transformer.fit_transform(X_test_counts)"
      ],
      "execution_count": null,
      "outputs": []
    },
    {
      "cell_type": "code",
      "metadata": {
        "id": "n9C5W8T-wpkF"
      },
      "source": [
        "prediction = regression.predict(X_test_tfidf)"
      ],
      "execution_count": null,
      "outputs": []
    },
    {
      "cell_type": "markdown",
      "metadata": {
        "id": "3aH60CLBwter"
      },
      "source": [
        "<a id='section2.3'></a>\n",
        "# Evaluation"
      ]
    },
    {
      "cell_type": "code",
      "metadata": {
        "id": "jBgXmV5jwwkG",
        "colab": {
          "base_uri": "https://localhost:8080/"
        },
        "outputId": "2076381e-fd77-4dfa-a466-e11ebd35b225"
      },
      "source": [
        "np.mean(prediction == y_test)"
      ],
      "execution_count": null,
      "outputs": [
        {
          "output_type": "execute_result",
          "data": {
            "text/plain": [
              "0.9773006250826204"
            ]
          },
          "metadata": {
            "tags": []
          },
          "execution_count": 58
        }
      ]
    },
    {
      "cell_type": "markdown",
      "metadata": {
        "id": "Nb5jDscafLIy"
      },
      "source": [
        "\n",
        "<a id='section2'></a>\n",
        "# **Explainability Methods**\n",
        "Explainability .... \n",
        "\n",
        "<a id='section2.1'></a>\n",
        "## **SHAP**\n",
        "SHAP ipsum lorem \n",
        "\n",
        "<a id='section2.2'></a>\n",
        "## **LIME**\n",
        "Lime ipsum lorem "
      ]
    }
  ]
}
