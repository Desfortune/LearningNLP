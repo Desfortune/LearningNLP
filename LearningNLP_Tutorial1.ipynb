{
  "nbformat": 4,
  "nbformat_minor": 0,
  "metadata": {
    "colab": {
      "name": "LearningNLP_Tutorial1.ipynb",
      "provenance": []
    },
    "kernelspec": {
      "name": "python3",
      "display_name": "Python 3"
    },
    "language_info": {
      "name": "python"
    }
  },
  "cells": [
    {
      "cell_type": "markdown",
      "metadata": {
        "id": "hISWdom_eFdQ"
      },
      "source": [
        "# Learning NLP Tutorial Series \n",
        "## Tutorial 1 : More on Sentiment Analysis \n",
        "\n",
        "Topics include: \n",
        "* Exploring a dataset (Disaster Tweets, ArXiv) \n",
        "* Explainability methods : SHAP, LIME \n",
        "* Sentiment Analysis generalization to N classes \n",
        "\n",
        "(Authors: Luca Bottero, Simone Azeglio)\n",
        "\n",
        "---\n",
        "---\n",
        "\n",
        "## **Overview**\n",
        "\n",
        "* [Preprocessing](#section1)\n",
        "    * [Feature Engineering](#section1.1)\n",
        "    \n",
        "\n",
        "* [Explainability Methods](#section2)\n",
        "    * [SHAP](#section2.1)\n",
        "    * [LIME](#section2.2)\n",
        "\n",
        "* [References & Additional Material](#section4)\n",
        "\n",
        "---\n",
        "---\n",
        "\n",
        "<a id='section1'></a>\n",
        "# **Preprocessing**\n",
        "In this first part ... "
      ]
    },
    {
      "cell_type": "code",
      "metadata": {
        "id": "-p5WR0P0eAfx"
      },
      "source": [
        ""
      ],
      "execution_count": null,
      "outputs": []
    },
    {
      "cell_type": "markdown",
      "metadata": {
        "id": "Nb5jDscafLIy"
      },
      "source": [
        "\n",
        "<a id='section2'></a>\n",
        "# **Explainability Methods**\n",
        "Explainability .... \n",
        "\n",
        "<a id='section2.1'></a>\n",
        "## **SHAP**\n",
        "SHAP ipsum lorem \n",
        "\n",
        "<a id='section2.2'></a>\n",
        "## **LIME**\n",
        "Lime ipsum lorem "
      ]
    },
    {
      "cell_type": "markdown",
      "metadata": {
        "id": "qHLaBRQtfLN7"
      },
      "source": [
        ""
      ]
    }
  ]
}